{
 "cells": [
  {
   "cell_type": "markdown",
   "metadata": {},
   "source": [
    "# Introduction\n",
    "\n",
    "In this project, you will build a neural network of your own design to evaluate the MNIST dataset.\n",
    "\n",
    "Some of the benchmark results on MNIST include can be found [on Yann LeCun's page](http://yann.lecun.com/exdb/mnist/) and include:\n",
    "\n",
    "88% [Lecun et al., 1998](http://yann.lecun.com/exdb/publis/pdf/lecun-98.pdf)\n",
    "95.3% [Lecun et al., 1998](http://yann.lecun.com/exdb/publis/pdf/lecun-98.pdf)\n",
    "99.65% [Ciresan et al., 2011](http://people.idsia.ch/~juergen/ijcai2011.pdf)\n",
    "\n",
    "MNIST is a great dataset for sanity checking your models, since the accuracy levels achieved by large convolutional neural networks and small linear models are both quite high. This makes it important to be familiar with the data.\n",
    "\n",
    "## Imports"
   ]
  },
  {
   "cell_type": "code",
   "execution_count": 1,
   "metadata": {},
   "outputs": [],
   "source": [
    "## This cell contains the essential imports you will need – DO NOT CHANGE THE CONTENTS! ##\n",
    "import torch\n",
    "import torch.nn as nn\n",
    "import torch.nn.functional as F\n",
    "import torch.optim as optim\n",
    "import torchvision\n",
    "import torchvision.transforms as transforms\n",
    "import matplotlib.pyplot as plt\n",
    "import numpy as np"
   ]
  },
  {
   "cell_type": "code",
   "execution_count": 2,
   "metadata": {},
   "outputs": [],
   "source": [
    "# !pip install --upgrade jupyter\n",
    "# !pip install --upgrade ipywidgets"
   ]
  },
  {
   "cell_type": "code",
   "execution_count": 3,
   "metadata": {},
   "outputs": [
    {
     "data": {
      "text/plain": [
       "device(type='cuda')"
      ]
     },
     "execution_count": 3,
     "metadata": {},
     "output_type": "execute_result"
    }
   ],
   "source": [
    "device = torch.device('cuda' if torch.cuda.is_available() else 'cpu')\n",
    "device"
   ]
  },
  {
   "cell_type": "markdown",
   "metadata": {},
   "source": [
    "## Load the Dataset\n",
    "\n",
    "Specify your transforms as a list if you intend to .\n",
    "The transforms module is already loaded as `transforms`.\n",
    "\n",
    "MNIST is fortunately included in the torchvision module.\n",
    "Then, you can create your dataset using the `MNIST` object from `torchvision.datasets` ([the documentation is available here](https://pytorch.org/vision/stable/datasets.html#mnist)).\n",
    "Make sure to specify `download=True`! \n",
    "\n",
    "Once your dataset is created, you'll also need to define a `DataLoader` from the `torch.utils.data` module for both the train and the test set."
   ]
  },
  {
   "cell_type": "code",
   "execution_count": 4,
   "metadata": {},
   "outputs": [
    {
     "name": "stdout",
     "output_type": "stream",
     "text": [
      "Downloading http://yann.lecun.com/exdb/mnist/train-images-idx3-ubyte.gz\n",
      "Downloading http://yann.lecun.com/exdb/mnist/train-images-idx3-ubyte.gz to data/MNIST/raw/train-images-idx3-ubyte.gz\n"
     ]
    },
    {
     "data": {
      "application/vnd.jupyter.widget-view+json": {
       "model_id": "d55a05c91ad646668bde249dbe22e2e1",
       "version_major": 2,
       "version_minor": 0
      },
      "text/plain": [
       "HBox(children=(FloatProgress(value=0.0, max=9912422.0), HTML(value='')))"
      ]
     },
     "metadata": {},
     "output_type": "display_data"
    },
    {
     "name": "stdout",
     "output_type": "stream",
     "text": [
      "\n",
      "Extracting data/MNIST/raw/train-images-idx3-ubyte.gz to data/MNIST/raw\n",
      "\n",
      "Downloading http://yann.lecun.com/exdb/mnist/train-labels-idx1-ubyte.gz\n",
      "Downloading http://yann.lecun.com/exdb/mnist/train-labels-idx1-ubyte.gz to data/MNIST/raw/train-labels-idx1-ubyte.gz\n"
     ]
    },
    {
     "data": {
      "application/vnd.jupyter.widget-view+json": {
       "model_id": "d4f37a2bf5844397907c3e13c18abfd9",
       "version_major": 2,
       "version_minor": 0
      },
      "text/plain": [
       "HBox(children=(FloatProgress(value=0.0, max=28881.0), HTML(value='')))"
      ]
     },
     "metadata": {},
     "output_type": "display_data"
    },
    {
     "name": "stdout",
     "output_type": "stream",
     "text": [
      "\n",
      "Extracting data/MNIST/raw/train-labels-idx1-ubyte.gz to data/MNIST/raw\n",
      "\n",
      "Downloading http://yann.lecun.com/exdb/mnist/t10k-images-idx3-ubyte.gz\n",
      "Downloading http://yann.lecun.com/exdb/mnist/t10k-images-idx3-ubyte.gz to data/MNIST/raw/t10k-images-idx3-ubyte.gz\n"
     ]
    },
    {
     "data": {
      "application/vnd.jupyter.widget-view+json": {
       "model_id": "14d434e5633c4e448fc1854474e8b9c8",
       "version_major": 2,
       "version_minor": 0
      },
      "text/plain": [
       "HBox(children=(FloatProgress(value=0.0, max=1648877.0), HTML(value='')))"
      ]
     },
     "metadata": {},
     "output_type": "display_data"
    },
    {
     "name": "stdout",
     "output_type": "stream",
     "text": [
      "\n",
      "Extracting data/MNIST/raw/t10k-images-idx3-ubyte.gz to data/MNIST/raw\n",
      "\n",
      "Downloading http://yann.lecun.com/exdb/mnist/t10k-labels-idx1-ubyte.gz\n",
      "Downloading http://yann.lecun.com/exdb/mnist/t10k-labels-idx1-ubyte.gz to data/MNIST/raw/t10k-labels-idx1-ubyte.gz\n"
     ]
    },
    {
     "data": {
      "application/vnd.jupyter.widget-view+json": {
       "model_id": "ec97c712c3ae40879db3efb1fee3c539",
       "version_major": 2,
       "version_minor": 0
      },
      "text/plain": [
       "HBox(children=(FloatProgress(value=0.0, max=4542.0), HTML(value='')))"
      ]
     },
     "metadata": {},
     "output_type": "display_data"
    },
    {
     "name": "stdout",
     "output_type": "stream",
     "text": [
      "\n",
      "Extracting data/MNIST/raw/t10k-labels-idx1-ubyte.gz to data/MNIST/raw\n",
      "\n"
     ]
    },
    {
     "name": "stderr",
     "output_type": "stream",
     "text": [
      "/opt/conda/lib/python3.7/site-packages/torchvision/datasets/mnist.py:498: UserWarning: The given NumPy array is not writable, and PyTorch does not support non-writable tensors. This means writing to this tensor will result in undefined behavior. You may want to copy the array to protect its data or make it writable before converting it to a tensor. This type of warning will be suppressed for the rest of this program. (Triggered internally at  ../torch/csrc/utils/tensor_numpy.cpp:178.)\n",
      "  return torch.from_numpy(parsed.astype(m[2], copy=False)).view(*s)\n"
     ]
    }
   ],
   "source": [
    "# Define transforms\n",
    "## YOUR CODE HERE ##\n",
    "transform=transforms.Compose([transforms.ToTensor()])\n",
    "# Create training set and define training dataloader\n",
    "## YOUR CODE HERE ##\n",
    "train_data=torchvision.datasets.MNIST('data',train=True,download=True,transform=transform)\n",
    "test_data=torchvision.datasets.MNIST('data',train=False,download=True,transform=transform)\n",
    "# Create test set and define test dataloader\n",
    "## YOUR CODE HERE ##\n",
    "valid_size=0.2\n",
    "\n",
    "# IMPORTANT \n",
    "batch_size=20\n",
    "\n",
    "num_workers=0\n",
    "\n",
    "train_length = len(train_data)\n",
    "\n",
    "# obtain training dataset indices that will be used for validation dataset\n",
    "indices = list(range(train_length))\n",
    "\n",
    "np.random.shuffle(indices)\n",
    "split = int(np.floor(valid_size * train_length))\n",
    "train_idx, valid_idx = indices[split:], indices[:split]\n",
    "\n",
    "\n",
    "# prepare data loaders for train, test and validation dataset\n",
    "train_loader = torch.utils.data.DataLoader(train_data, batch_size=batch_size, num_workers=num_workers)\n",
    "valid_loader = torch.utils.data.DataLoader(train_data, batch_size=batch_size, num_workers=num_workers)\n",
    "test_loader = torch.utils.data.DataLoader(test_data, batch_size=batch_size, \n",
    "    num_workers=num_workers)"
   ]
  },
  {
   "cell_type": "code",
   "execution_count": 5,
   "metadata": {},
   "outputs": [
    {
     "data": {
      "text/plain": [
       "(48000, 12000)"
      ]
     },
     "execution_count": 5,
     "metadata": {},
     "output_type": "execute_result"
    }
   ],
   "source": [
    "train_idx.__len__(),valid_idx.__len__()"
   ]
  },
  {
   "cell_type": "code",
   "execution_count": 6,
   "metadata": {},
   "outputs": [
    {
     "data": {
      "text/plain": [
       "(3000, 3000, 500)"
      ]
     },
     "execution_count": 6,
     "metadata": {},
     "output_type": "execute_result"
    }
   ],
   "source": [
    "# Printing the length of our train, valid and test dataloaders\n",
    "# NOTE : Here batch size is 20\n",
    "len(train_loader),len(valid_loader),len(test_loader)"
   ]
  },
  {
   "cell_type": "markdown",
   "metadata": {},
   "source": [
    "## Justify your preprocessing\n",
    "\n",
    "In your own words, why did you choose the transforms you chose? If you didn't use any preprocessing steps, why not?"
   ]
  },
  {
   "cell_type": "markdown",
   "metadata": {},
   "source": [
    "**DOUBLE CLICK THIS CELL TO MODIFY**"
   ]
  },
  {
   "cell_type": "markdown",
   "metadata": {},
   "source": [
    "## Explore the Dataset\n",
    "Using matplotlib, numpy, and torch, explore the dimensions of your data.\n",
    "\n",
    "You can view images using the `show5` function defined below – it takes a data loader as an argument.\n",
    "Remember that normalized images will look really weird to you! You may want to try changing your transforms to view images.\n",
    "Typically using no transforms other than `toTensor()` works well for viewing – but not as well for training your network.\n",
    "If `show5` doesn't work, go back and check your code for creating your data loaders and your training/test sets."
   ]
  },
  {
   "cell_type": "code",
   "execution_count": 7,
   "metadata": {},
   "outputs": [],
   "source": [
    "## This cell contains a function for showing 5 images from a dataloader – DO NOT CHANGE THE CONTENTS! ##\n",
    "def show5(img_loader):\n",
    "    dataiter = iter(img_loader)\n",
    "    \n",
    "    batch = next(dataiter)\n",
    "    labels = batch[1][0:5]\n",
    "    images = batch[0][0:5]\n",
    "    for i in range(5):\n",
    "        print(int(labels[i].detach()))\n",
    "    \n",
    "        image = images[i].numpy()\n",
    "        plt.imshow(image.T.squeeze().T)\n",
    "        plt.show()"
   ]
  },
  {
   "cell_type": "code",
   "execution_count": 8,
   "metadata": {},
   "outputs": [
    {
     "name": "stdout",
     "output_type": "stream",
     "text": [
      "tensor([[[[0., 0., 0.,  ..., 0., 0., 0.],\n",
      "          [0., 0., 0.,  ..., 0., 0., 0.],\n",
      "          [0., 0., 0.,  ..., 0., 0., 0.],\n",
      "          ...,\n",
      "          [0., 0., 0.,  ..., 0., 0., 0.],\n",
      "          [0., 0., 0.,  ..., 0., 0., 0.],\n",
      "          [0., 0., 0.,  ..., 0., 0., 0.]]],\n",
      "\n",
      "\n",
      "        [[[0., 0., 0.,  ..., 0., 0., 0.],\n",
      "          [0., 0., 0.,  ..., 0., 0., 0.],\n",
      "          [0., 0., 0.,  ..., 0., 0., 0.],\n",
      "          ...,\n",
      "          [0., 0., 0.,  ..., 0., 0., 0.],\n",
      "          [0., 0., 0.,  ..., 0., 0., 0.],\n",
      "          [0., 0., 0.,  ..., 0., 0., 0.]]],\n",
      "\n",
      "\n",
      "        [[[0., 0., 0.,  ..., 0., 0., 0.],\n",
      "          [0., 0., 0.,  ..., 0., 0., 0.],\n",
      "          [0., 0., 0.,  ..., 0., 0., 0.],\n",
      "          ...,\n",
      "          [0., 0., 0.,  ..., 0., 0., 0.],\n",
      "          [0., 0., 0.,  ..., 0., 0., 0.],\n",
      "          [0., 0., 0.,  ..., 0., 0., 0.]]],\n",
      "\n",
      "\n",
      "        ...,\n",
      "\n",
      "\n",
      "        [[[0., 0., 0.,  ..., 0., 0., 0.],\n",
      "          [0., 0., 0.,  ..., 0., 0., 0.],\n",
      "          [0., 0., 0.,  ..., 0., 0., 0.],\n",
      "          ...,\n",
      "          [0., 0., 0.,  ..., 0., 0., 0.],\n",
      "          [0., 0., 0.,  ..., 0., 0., 0.],\n",
      "          [0., 0., 0.,  ..., 0., 0., 0.]]],\n",
      "\n",
      "\n",
      "        [[[0., 0., 0.,  ..., 0., 0., 0.],\n",
      "          [0., 0., 0.,  ..., 0., 0., 0.],\n",
      "          [0., 0., 0.,  ..., 0., 0., 0.],\n",
      "          ...,\n",
      "          [0., 0., 0.,  ..., 0., 0., 0.],\n",
      "          [0., 0., 0.,  ..., 0., 0., 0.],\n",
      "          [0., 0., 0.,  ..., 0., 0., 0.]]],\n",
      "\n",
      "\n",
      "        [[[0., 0., 0.,  ..., 0., 0., 0.],\n",
      "          [0., 0., 0.,  ..., 0., 0., 0.],\n",
      "          [0., 0., 0.,  ..., 0., 0., 0.],\n",
      "          ...,\n",
      "          [0., 0., 0.,  ..., 0., 0., 0.],\n",
      "          [0., 0., 0.,  ..., 0., 0., 0.],\n",
      "          [0., 0., 0.,  ..., 0., 0., 0.]]]]) torch.Size([20, 1, 28, 28]) 20 torch.Size([1, 28, 28])\n",
      "\n",
      "tensor([5, 0, 4, 1, 9, 2, 1, 3, 1, 4, 3, 5, 3, 6, 1, 7, 2, 8, 6, 9]) torch.Size([20]) 20\n"
     ]
    }
   ],
   "source": [
    "# Explore data\n",
    "## YOUR CODE HERE ##\n",
    "# checking our data\n",
    "dataiter=iter(train_loader)\n",
    "images,labels=dataiter.next()\n",
    "print(images, images.shape, len(images), images[0].shape)\n",
    "print()\n",
    "print(labels,labels.shape,len(labels))"
   ]
  },
  {
   "cell_type": "code",
   "execution_count": 9,
   "metadata": {},
   "outputs": [
    {
     "data": {
      "image/png": "[encoded data removed]",
      "text/plain": [
       "<Figure size 2160x720 with 20 Axes>"
      ]
     },
     "metadata": {},
     "output_type": "display_data"
    }
   ],
   "source": [
    "# Displaying images and labels of a batch\n",
    "fig=plt.figure(figsize=(30,10))\n",
    "for i in range(len(labels)):\n",
    "    ax=fig.add_subplot(2,10,i+1,xticks=[],yticks=[])\n",
    "    plt.imshow(np.squeeze(images[i]))\n",
    "    ax.set_title(labels[i].item(),color='blue')"
   ]
  },
  {
   "cell_type": "markdown",
   "metadata": {},
   "source": [
    "## Build your Neural Network\n",
    "Using the layers in `torch.nn` (which has been imported as `nn`) and the `torch.nn.functional` module (imported as `F`), construct a neural network based on the parameters of the dataset.\n",
    "Use any architecture you like. \n",
    "\n",
    "*Note*: If you did not flatten your tensors in your transforms or as part of your preprocessing and you are using only `Linear` layers, make sure to use the `Flatten` layer in your network!"
   ]
  },
  {
   "cell_type": "code",
   "execution_count": 10,
   "metadata": {},
   "outputs": [],
   "source": [
    "## YOUR CODE HERE ##\n",
    "# Model 1 : This model has dropout set to a certain value\n",
    "# NOTE : When we want to use dropout we ensure we run train() method on our model --- during training , if not required we should use eval() method --- validation and testing\n",
    "class FNet(nn.Module):\n",
    "    def __init__(self):\n",
    "        super(FNet,self).__init__()\n",
    "        self.fc1=nn.Linear(784,512)\n",
    "        self.fc2=nn.Linear(512,256)\n",
    "        self.out=nn.Linear(256,10)\n",
    "        \n",
    "        # Dropout probability - set for avoiding overfitting\n",
    "        self.dropout=nn.Dropout(0.2)\n",
    "\n",
    "    def forward(self,x):\n",
    "        x = x.view(-1, 28 * 28)        \n",
    "        x=self.dropout(F.relu(self.fc1(x)))\n",
    "        x=self.dropout(F.relu(self.fc2(x)))\n",
    "        x=self.out(x)\n",
    "        return x\n",
    "\n",
    "class convNet(nn.Module):\n",
    "    def __init__(self):\n",
    "        super(convNet,self).__init__()\n",
    "        self.conv1=nn.Conv2d(in_channels=1,out_channels=16,kernel_size=3,padding=1,stride=1)\n",
    "        self.conv2=nn.Conv2d(in_channels=16,out_channels=32,kernel_size=3,padding=1,stride=1)\n",
    "        self.pool=nn.MaxPool2d(kernel_size=2,stride=2)\n",
    "\n",
    "        self.fc1=nn.Linear(7*7*32,512)\n",
    "        self.fc2=nn.Linear(512,256)\n",
    "        self.out=nn.Linear(256,10)\n",
    "        self.dropout=nn.Dropout(0.2)\n",
    "\n",
    "    def forward(self,x):\n",
    "        x=self.pool(F.relu(self.conv1(x)))\n",
    "        x=self.pool(F.relu(self.conv2(x)))\n",
    "        x=x.view(-1,7*7*32)\n",
    "        x = self.dropout(x)\n",
    "        x=self.dropout(F.relu(self.fc1(x)))\n",
    "        x=self.dropout(F.relu(self.fc2(x)))\n",
    "        x=self.out(x)\n",
    "        return x\n",
    "    "
   ]
  },
  {
   "cell_type": "code",
   "execution_count": 11,
   "metadata": {},
   "outputs": [
    {
     "name": "stdout",
     "output_type": "stream",
     "text": [
      "FNet(\n",
      "  (fc1): Linear(in_features=784, out_features=512, bias=True)\n",
      "  (fc2): Linear(in_features=512, out_features=256, bias=True)\n",
      "  (out): Linear(in_features=256, out_features=10, bias=True)\n",
      "  (dropout): Dropout(p=0.2, inplace=False)\n",
      ") \n",
      "\n",
      "\n",
      "\n",
      " convNet(\n",
      "  (conv1): Conv2d(1, 16, kernel_size=(3, 3), stride=(1, 1), padding=(1, 1))\n",
      "  (conv2): Conv2d(16, 32, kernel_size=(3, 3), stride=(1, 1), padding=(1, 1))\n",
      "  (pool): MaxPool2d(kernel_size=2, stride=2, padding=0, dilation=1, ceil_mode=False)\n",
      "  (fc1): Linear(in_features=1568, out_features=512, bias=True)\n",
      "  (fc2): Linear(in_features=512, out_features=256, bias=True)\n",
      "  (out): Linear(in_features=256, out_features=10, bias=True)\n",
      "  (dropout): Dropout(p=0.2, inplace=False)\n",
      ") \n",
      "\n",
      "\n",
      "\n",
      " On GPU :  True\n"
     ]
    }
   ],
   "source": [
    "model_1=FNet()\n",
    "model_2=convNet()\n",
    "\n",
    "def weight_init_normal(m):\n",
    "    classname=m.__class__.__name__\n",
    "    if classname.find('Linear')!=-1:\n",
    "        n = m.in_features\n",
    "        y = (1.0/np.sqrt(n))\n",
    "        m.weight.data.normal_(0, y)\n",
    "        m.bias.data.fill_(0)\n",
    "model_1.apply(weight_init_normal),model_2.apply(weight_init_normal)\n",
    "use_cuda=True\n",
    "if use_cuda and torch.cuda.is_available():\n",
    "    model_1.cuda()\n",
    "    model_2.cuda()\n",
    "\n",
    "\n",
    "print(model_1,'\\n\\n\\n\\n',model_2,'\\n\\n\\n\\n','On GPU : ',torch.cuda.is_available())"
   ]
  },
  {
   "cell_type": "markdown",
   "metadata": {},
   "source": [
    "Specify a loss function and an optimizer, and instantiate the model.\n",
    "\n",
    "If you use a less common loss function, please note why you chose that loss function in a comment."
   ]
  },
  {
   "cell_type": "code",
   "execution_count": 12,
   "metadata": {},
   "outputs": [],
   "source": [
    "## YOUR CODE HERE ##\n",
    "criterion=nn.CrossEntropyLoss()"
   ]
  },
  {
   "cell_type": "markdown",
   "metadata": {},
   "source": [
    "## Running your Neural Network\n",
    "Use whatever method you like to train your neural network, and ensure you record the average loss at each epoch. \n",
    "Don't forget to use `torch.device()` and the `.to()` method for both your model and your data if you are using GPU!\n",
    "\n",
    "If you want to print your loss **during** each epoch, you can use the `enumerate` function and print the loss after a set number of batches. 250 batches works well for most people!"
   ]
  },
  {
   "cell_type": "code",
   "execution_count": 13,
   "metadata": {},
   "outputs": [],
   "source": [
    "## YOUR CODE HERE ##\n",
    "def trainNet(model,lr):\n",
    "    optimizer=torch.optim.Adam(model.parameters(),lr=lr)\n",
    "\n",
    "\n",
    "    # Number of epochs to train for\n",
    "    loss_keeper={'train':[],'valid':[]}\n",
    "    epochs=20\n",
    "\n",
    "    # minimum validation loss ----- set initial minimum to infinity\n",
    "    valid_loss_min = np.Inf \n",
    "\n",
    "    for epoch in range(epochs):\n",
    "        train_loss=0.0\n",
    "        valid_loss=0.0\n",
    "\n",
    "        \"\"\"\n",
    "        TRAINING PHASE\n",
    "        \"\"\"\n",
    "        model.train() # TURN ON DROPOUT for training\n",
    "        for images,labels in train_loader:\n",
    "            if use_cuda and torch.cuda.is_available():\n",
    "                images,labels=images.cuda(),labels.cuda()\n",
    "            optimizer.zero_grad()\n",
    "            output=model(images)\n",
    "            loss=criterion(output,labels)\n",
    "            loss.backward()\n",
    "            optimizer.step()\n",
    "            train_loss+=loss.item()\n",
    "\n",
    "        \"\"\"\n",
    "        VALIDATION PHASE\n",
    "        \"\"\"\n",
    "        model.eval() # TURN OFF DROPOUT for validation\n",
    "        for images,labels in valid_loader:\n",
    "            if use_cuda and torch.cuda.is_available():\n",
    "                images,labels=images.cuda(),labels.cuda()\n",
    "            output=model(images)\n",
    "            loss=criterion(output,labels)\n",
    "            valid_loss+=loss.item()\n",
    "\n",
    "        # Calculating loss over entire batch size for every epoch\n",
    "        train_loss = train_loss/len(train_loader)\n",
    "        valid_loss = valid_loss/len(valid_loader)\n",
    "\n",
    "\n",
    "        # saving loss values\n",
    "        loss_keeper['train'].append(train_loss)\n",
    "        loss_keeper['valid'].append(valid_loss)\n",
    "\n",
    "        print(f\"\\nEpoch : {epoch+1}\\tTraining Loss : {train_loss}\\tValidation Loss : {valid_loss}\")\n",
    "        if valid_loss<=valid_loss_min:\n",
    "            print(f\"Validation loss decreased from : {valid_loss_min} ----> {valid_loss} ----> Saving Model.......\")\n",
    "            z=type(model).__name__\n",
    "            torch.save(model.state_dict(), z+'_model.pth')\n",
    "            valid_loss_min=valid_loss\n",
    "    return(loss_keeper)"
   ]
  },
  {
   "cell_type": "code",
   "execution_count": 14,
   "metadata": {},
   "outputs": [
    {
     "name": "stdout",
     "output_type": "stream",
     "text": [
      "\n",
      "Epoch : 1\tTraining Loss : 0.22180837587632898\tValidation Loss : 0.13797822052648795\n",
      "Validation loss decreased from : inf ----> 0.13797822052648795 ----> Saving Model.......\n",
      "\n",
      "Epoch : 2\tTraining Loss : 0.11108603898093133\tValidation Loss : 0.07383639641215935\n",
      "Validation loss decreased from : 0.13797822052648795 ----> 0.07383639641215935 ----> Saving Model.......\n",
      "\n",
      "Epoch : 3\tTraining Loss : 0.0864355913229941\tValidation Loss : 0.09285710924295411\n",
      "\n",
      "Epoch : 4\tTraining Loss : 0.07114873780966355\tValidation Loss : 0.08132220679716573\n",
      "\n",
      "Epoch : 5\tTraining Loss : 0.06466372382033005\tValidation Loss : 0.05700254461285289\n",
      "Validation loss decreased from : 0.07383639641215935 ----> 0.05700254461285289 ----> Saving Model.......\n",
      "\n",
      "Epoch : 6\tTraining Loss : 0.05390571263093155\tValidation Loss : 0.04303469525316691\n",
      "Validation loss decreased from : 0.05700254461285289 ----> 0.04303469525316691 ----> Saving Model.......\n",
      "\n",
      "Epoch : 7\tTraining Loss : 0.050539088893757765\tValidation Loss : 0.03843209527423504\n",
      "Validation loss decreased from : 0.04303469525316691 ----> 0.03843209527423504 ----> Saving Model.......\n",
      "\n",
      "Epoch : 8\tTraining Loss : 0.047677714135378586\tValidation Loss : 0.0343435679761218\n",
      "Validation loss decreased from : 0.03843209527423504 ----> 0.0343435679761218 ----> Saving Model.......\n",
      "\n",
      "Epoch : 9\tTraining Loss : 0.043727436686188295\tValidation Loss : 0.022425429869944877\n",
      "Validation loss decreased from : 0.0343435679761218 ----> 0.022425429869944877 ----> Saving Model.......\n",
      "\n",
      "Epoch : 10\tTraining Loss : 0.04113146031564251\tValidation Loss : 0.020574990421173008\n",
      "Validation loss decreased from : 0.022425429869944877 ----> 0.020574990421173008 ----> Saving Model.......\n",
      "\n",
      "Epoch : 11\tTraining Loss : 0.038885647462943984\tValidation Loss : 0.01886834858697806\n",
      "Validation loss decreased from : 0.020574990421173008 ----> 0.01886834858697806 ----> Saving Model.......\n",
      "\n",
      "Epoch : 12\tTraining Loss : 0.04125882182457648\tValidation Loss : 0.01911868003907131\n",
      "\n",
      "Epoch : 13\tTraining Loss : 0.03602236362528522\tValidation Loss : 0.017087301436866834\n",
      "Validation loss decreased from : 0.01886834858697806 ----> 0.017087301436866834 ----> Saving Model.......\n",
      "\n",
      "Epoch : 14\tTraining Loss : 0.03914066098012871\tValidation Loss : 0.016690626214420398\n",
      "Validation loss decreased from : 0.017087301436866834 ----> 0.016690626214420398 ----> Saving Model.......\n",
      "\n",
      "Epoch : 15\tTraining Loss : 0.035266338879363784\tValidation Loss : 0.028280217403057577\n",
      "\n",
      "Epoch : 16\tTraining Loss : 0.03374049981827754\tValidation Loss : 0.016345229754410377\n",
      "Validation loss decreased from : 0.016690626214420398 ----> 0.016345229754410377 ----> Saving Model.......\n",
      "\n",
      "Epoch : 17\tTraining Loss : 0.03599470964833772\tValidation Loss : 0.008717456165353176\n",
      "Validation loss decreased from : 0.016345229754410377 ----> 0.008717456165353176 ----> Saving Model.......\n",
      "\n",
      "Epoch : 18\tTraining Loss : 0.03293929260993358\tValidation Loss : 0.009686398652479153\n",
      "\n",
      "Epoch : 19\tTraining Loss : 0.03199886313138515\tValidation Loss : 0.010226726742462574\n",
      "\n",
      "Epoch : 20\tTraining Loss : 0.03530241472405941\tValidation Loss : 0.010971705413803986\n"
     ]
    }
   ],
   "source": [
    "m1_loss=trainNet(model_1,0.001)"
   ]
  },
  {
   "cell_type": "code",
   "execution_count": 15,
   "metadata": {},
   "outputs": [
    {
     "data": {
      "text/plain": [
       "{'train': [0.22180837587632898,\n",
       "  0.11108603898093133,\n",
       "  0.0864355913229941,\n",
       "  0.07114873780966355,\n",
       "  0.06466372382033005,\n",
       "  0.05390571263093155,\n",
       "  0.050539088893757765,\n",
       "  0.047677714135378586,\n",
       "  0.043727436686188295,\n",
       "  0.04113146031564251,\n",
       "  0.038885647462943984,\n",
       "  0.04125882182457648,\n",
       "  0.03602236362528522,\n",
       "  0.03914066098012871,\n",
       "  0.035266338879363784,\n",
       "  0.03374049981827754,\n",
       "  0.03599470964833772,\n",
       "  0.03293929260993358,\n",
       "  0.03199886313138515,\n",
       "  0.03530241472405941],\n",
       " 'valid': [0.13797822052648795,\n",
       "  0.07383639641215935,\n",
       "  0.09285710924295411,\n",
       "  0.08132220679716573,\n",
       "  0.05700254461285289,\n",
       "  0.04303469525316691,\n",
       "  0.03843209527423504,\n",
       "  0.0343435679761218,\n",
       "  0.022425429869944877,\n",
       "  0.020574990421173008,\n",
       "  0.01886834858697806,\n",
       "  0.01911868003907131,\n",
       "  0.017087301436866834,\n",
       "  0.016690626214420398,\n",
       "  0.028280217403057577,\n",
       "  0.016345229754410377,\n",
       "  0.008717456165353176,\n",
       "  0.009686398652479153,\n",
       "  0.010226726742462574,\n",
       "  0.010971705413803986]}"
      ]
     },
     "execution_count": 15,
     "metadata": {},
     "output_type": "execute_result"
    }
   ],
   "source": [
    "m1_loss"
   ]
  },
  {
   "cell_type": "code",
   "execution_count": 16,
   "metadata": {},
   "outputs": [
    {
     "name": "stdout",
     "output_type": "stream",
     "text": [
      "\n",
      "Epoch : 1\tTraining Loss : 0.1570126029849586\tValidation Loss : 0.05301929434991204\n",
      "Validation loss decreased from : inf ----> 0.05301929434991204 ----> Saving Model.......\n",
      "\n",
      "Epoch : 2\tTraining Loss : 0.06286673432739766\tValidation Loss : 0.028727748075519532\n",
      "Validation loss decreased from : 0.05301929434991204 ----> 0.028727748075519532 ----> Saving Model.......\n",
      "\n",
      "Epoch : 3\tTraining Loss : 0.047309779851964016\tValidation Loss : 0.02878559689833067\n",
      "\n",
      "Epoch : 4\tTraining Loss : 0.0391837998255167\tValidation Loss : 0.020925389950074334\n",
      "Validation loss decreased from : 0.028727748075519532 ----> 0.020925389950074334 ----> Saving Model.......\n",
      "\n",
      "Epoch : 5\tTraining Loss : 0.03293148769958242\tValidation Loss : 0.02479353051366696\n",
      "\n",
      "Epoch : 6\tTraining Loss : 0.026734159324332714\tValidation Loss : 0.019846412289799987\n",
      "Validation loss decreased from : 0.020925389950074334 ----> 0.019846412289799987 ----> Saving Model.......\n",
      "\n",
      "Epoch : 7\tTraining Loss : 0.026844791927182952\tValidation Loss : 0.020300419596104055\n",
      "\n",
      "Epoch : 8\tTraining Loss : 0.024633407550076897\tValidation Loss : 0.009636768015811932\n",
      "Validation loss decreased from : 0.019846412289799987 ----> 0.009636768015811932 ----> Saving Model.......\n",
      "\n",
      "Epoch : 9\tTraining Loss : 0.022691598302087005\tValidation Loss : 0.010579939366680334\n",
      "\n",
      "Epoch : 10\tTraining Loss : 0.018627600402982294\tValidation Loss : 0.005564283078187632\n",
      "Validation loss decreased from : 0.009636768015811932 ----> 0.005564283078187632 ----> Saving Model.......\n",
      "\n",
      "Epoch : 11\tTraining Loss : 0.01863319561370534\tValidation Loss : 0.006689323658070665\n",
      "\n",
      "Epoch : 12\tTraining Loss : 0.019691836090903997\tValidation Loss : 0.005923720891020399\n",
      "\n",
      "Epoch : 13\tTraining Loss : 0.01810494279805401\tValidation Loss : 0.008588488385980439\n",
      "\n",
      "Epoch : 14\tTraining Loss : 0.017246534230952758\tValidation Loss : 0.00514634939633934\n",
      "Validation loss decreased from : 0.005564283078187632 ----> 0.00514634939633934 ----> Saving Model.......\n",
      "\n",
      "Epoch : 15\tTraining Loss : 0.016990276188420625\tValidation Loss : 0.003979108364160719\n",
      "Validation loss decreased from : 0.00514634939633934 ----> 0.003979108364160719 ----> Saving Model.......\n",
      "\n",
      "Epoch : 16\tTraining Loss : 0.016024557554403428\tValidation Loss : 0.0038652393736964678\n",
      "Validation loss decreased from : 0.003979108364160719 ----> 0.0038652393736964678 ----> Saving Model.......\n",
      "\n",
      "Epoch : 17\tTraining Loss : 0.01652766407722483\tValidation Loss : 0.008367556998933587\n",
      "\n",
      "Epoch : 18\tTraining Loss : 0.017153017174824807\tValidation Loss : 0.003066687608203823\n",
      "Validation loss decreased from : 0.0038652393736964678 ----> 0.003066687608203823 ----> Saving Model.......\n",
      "\n",
      "Epoch : 19\tTraining Loss : 0.015148998445690922\tValidation Loss : 0.006286678276933343\n",
      "\n",
      "Epoch : 20\tTraining Loss : 0.016240134810950844\tValidation Loss : 0.0022435584690884765\n",
      "Validation loss decreased from : 0.003066687608203823 ----> 0.0022435584690884765 ----> Saving Model.......\n"
     ]
    }
   ],
   "source": [
    "m2_loss=trainNet(model_2,0.001)"
   ]
  },
  {
   "cell_type": "code",
   "execution_count": 17,
   "metadata": {},
   "outputs": [
    {
     "data": {
      "text/plain": [
       "{'train': [0.1570126029849586,\n",
       "  0.06286673432739766,\n",
       "  0.047309779851964016,\n",
       "  0.0391837998255167,\n",
       "  0.03293148769958242,\n",
       "  0.026734159324332714,\n",
       "  0.026844791927182952,\n",
       "  0.024633407550076897,\n",
       "  0.022691598302087005,\n",
       "  0.018627600402982294,\n",
       "  0.01863319561370534,\n",
       "  0.019691836090903997,\n",
       "  0.01810494279805401,\n",
       "  0.017246534230952758,\n",
       "  0.016990276188420625,\n",
       "  0.016024557554403428,\n",
       "  0.01652766407722483,\n",
       "  0.017153017174824807,\n",
       "  0.015148998445690922,\n",
       "  0.016240134810950844],\n",
       " 'valid': [0.05301929434991204,\n",
       "  0.028727748075519532,\n",
       "  0.02878559689833067,\n",
       "  0.020925389950074334,\n",
       "  0.02479353051366696,\n",
       "  0.019846412289799987,\n",
       "  0.020300419596104055,\n",
       "  0.009636768015811932,\n",
       "  0.010579939366680334,\n",
       "  0.005564283078187632,\n",
       "  0.006689323658070665,\n",
       "  0.005923720891020399,\n",
       "  0.008588488385980439,\n",
       "  0.00514634939633934,\n",
       "  0.003979108364160719,\n",
       "  0.0038652393736964678,\n",
       "  0.008367556998933587,\n",
       "  0.003066687608203823,\n",
       "  0.006286678276933343,\n",
       "  0.0022435584690884765]}"
      ]
     },
     "execution_count": 17,
     "metadata": {},
     "output_type": "execute_result"
    }
   ],
   "source": [
    "m2_loss"
   ]
  },
  {
   "cell_type": "code",
   "execution_count": 18,
   "metadata": {},
   "outputs": [
    {
     "data": {
      "text/plain": [
       "<All keys matched successfully>"
      ]
     },
     "execution_count": 18,
     "metadata": {},
     "output_type": "execute_result"
    }
   ],
   "source": [
    "# Loading the model from the lowest validation loss \n",
    "model_1.load_state_dict(torch.load('FNet_model.pth'))\n",
    "model_2.load_state_dict(torch.load('convNet_model.pth'))"
   ]
  },
  {
   "cell_type": "code",
   "execution_count": 19,
   "metadata": {},
   "outputs": [
    {
     "name": "stdout",
     "output_type": "stream",
     "text": [
      "<bound method Module.state_dict of FNet(\n",
      "  (fc1): Linear(in_features=784, out_features=512, bias=True)\n",
      "  (fc2): Linear(in_features=512, out_features=256, bias=True)\n",
      "  (out): Linear(in_features=256, out_features=10, bias=True)\n",
      "  (dropout): Dropout(p=0.2, inplace=False)\n",
      ")> \n",
      "\n",
      "\n",
      "\n",
      " <bound method Module.state_dict of convNet(\n",
      "  (conv1): Conv2d(1, 16, kernel_size=(3, 3), stride=(1, 1), padding=(1, 1))\n",
      "  (conv2): Conv2d(16, 32, kernel_size=(3, 3), stride=(1, 1), padding=(1, 1))\n",
      "  (pool): MaxPool2d(kernel_size=2, stride=2, padding=0, dilation=1, ceil_mode=False)\n",
      "  (fc1): Linear(in_features=1568, out_features=512, bias=True)\n",
      "  (fc2): Linear(in_features=512, out_features=256, bias=True)\n",
      "  (out): Linear(in_features=256, out_features=10, bias=True)\n",
      "  (dropout): Dropout(p=0.2, inplace=False)\n",
      ")>\n"
     ]
    }
   ],
   "source": [
    "print(model_1.state_dict,'\\n\\n\\n\\n',model_2.state_dict)"
   ]
  },
  {
   "cell_type": "markdown",
   "metadata": {},
   "source": [
    "Plot the training loss (and validation loss/accuracy, if recorded)."
   ]
  },
  {
   "cell_type": "code",
   "execution_count": 20,
   "metadata": {},
   "outputs": [
    {
     "data": {
      "image/png": "[encoded data removed]",
      "text/plain": [
       "<Figure size 720x360 with 2 Axes>"
      ]
     },
     "metadata": {
      "needs_background": "light"
     },
     "output_type": "display_data"
    }
   ],
   "source": [
    "## YOUR CODE HERE ##\n",
    "title=['FFNN','CNN']\n",
    "model_losses=[m1_loss,m2_loss]\n",
    "fig=plt.figure(1,figsize=(10,5))\n",
    "idx=1\n",
    "for i in model_losses:\n",
    "    ax=fig.add_subplot(1,2,idx)\n",
    "    ax.plot(i['train'],label=\"Training Loss\")\n",
    "    ax.plot(i['valid'],label=\"Validation Loss\")\n",
    "    ax.set_title('MNIST-Digits : '+title[idx-1])\n",
    "    idx+=1\n",
    "    plt.legend();"
   ]
  },
  {
   "cell_type": "markdown",
   "metadata": {},
   "source": [
    "## Testing your model\n",
    "Using the previously created `DataLoader` for the test set, compute the percentage of correct predictions using the highest probability prediction. \n",
    "\n",
    "If your accuracy is over 90%, great work, but see if you can push a bit further! \n",
    "If your accuracy is under 90%, you'll need to make improvements.\n",
    "Go back and check your model architecture, loss function, and optimizer to make sure they're appropriate for an image classification task."
   ]
  },
  {
   "cell_type": "code",
   "execution_count": 21,
   "metadata": {},
   "outputs": [],
   "source": [
    "## YOUR CODE HERE ##\n",
    "def test(model):\n",
    "    correct=0\n",
    "    test_loss=0\n",
    "    class_correct = list(0. for i in range(10))\n",
    "    class_total = list(0. for i in range(10))\n",
    "\n",
    "    model.eval() # test the model with dropout layers off\n",
    "    for images,labels in test_loader:\n",
    "        if use_cuda and torch.cuda.is_available():\n",
    "            images,labels=images.cuda(),labels.cuda()\n",
    "        output=model(images)\n",
    "        loss=criterion(output,labels)\n",
    "        test_loss+=loss.item()\n",
    "        _,pred=torch.max(output,1)\n",
    "        correct = np.squeeze(pred.eq(labels.data.view_as(pred)))\n",
    "\n",
    "        for i in range(batch_size):\n",
    "            label = labels.data[i]\n",
    "            class_correct[label] += correct[i].item()\n",
    "            class_total[label] += 1\n",
    "\n",
    "\n",
    "    test_loss=test_loss/len(test_loader)\n",
    "    print(f'For {type(model).__name__} :')\n",
    "    print(f\"Test Loss: {test_loss}\")\n",
    "    print(f\"Correctly predicted per class : {class_correct}, Total correctly perdicted : {sum(class_correct)}\")\n",
    "    print(f\"Total Predictions per class : {class_total}, Total predictions to be made : {sum(class_total)}\\n\")\n",
    "    for i in range(10):\n",
    "        if class_total[i] > 0:\n",
    "            print(f\"Test Accuracy of class {i} : {float(100 * class_correct[i] / class_total[i])}% where {int(np.sum(class_correct[i]))} of {int(np.sum(class_total[i]))} were predicted correctly\")\n",
    "        else:\n",
    "            print('Test Accuracy of %5s: N/A (no training examples)' % (classes[i]))\n",
    "\n",
    "    print(f\"\\nOverall Test Accuracy : {float(100. * np.sum(class_correct) / np.sum(class_total))}% where {int(np.sum(class_correct))} of {int(np.sum(class_total))} were predicted correctly\")\n",
    "    # obtain one batch of test images\n",
    "    dataiter = iter(test_loader)\n",
    "    images, labels = dataiter.next()\n",
    "\n",
    "    # get sample outputs\n",
    "    if use_cuda and torch.cuda.is_available():\n",
    "        images,labels=images.cuda(),labels.cuda()\n",
    "    output = model(images)\n",
    "    # convert output probabilities to predicted class\n",
    "    _, preds = torch.max(output, 1)\n",
    "    # prep images for display\n",
    "    images = images.cpu().numpy()\n",
    "\n",
    "    # plot the images in the batch, along with predicted and true labels\n",
    "    fig = plt.figure(figsize=(25, 4))\n",
    "    for idx in np.arange(20):\n",
    "        ax = fig.add_subplot(2, 20/2, idx+1, xticks=[], yticks=[])\n",
    "        ax.imshow(np.squeeze(images[idx]))\n",
    "        ax.set_title(\"{} for ({})\".format(str(preds[idx].item()), str(labels[idx].item())),\n",
    "                    color=(\"blue\" if preds[idx]==labels[idx] else \"red\"))\n",
    "     "
   ]
  },
  {
   "cell_type": "markdown",
   "metadata": {},
   "source": [
    "## Improving your model\n",
    "\n",
    "Once your model is done training, try tweaking your hyperparameters and training again below to improve your accuracy on the test set!"
   ]
  },
  {
   "cell_type": "code",
   "execution_count": 22,
   "metadata": {},
   "outputs": [
    {
     "name": "stdout",
     "output_type": "stream",
     "text": [
      "For FNet :\n",
      "Test Loss: 0.1072433885632235\n",
      "Correctly predicted per class : [972.0, 1130.0, 1016.0, 987.0, 965.0, 874.0, 937.0, 1004.0, 954.0, 981.0], Total correctly perdicted : 9820.0\n",
      "Total Predictions per class : [980.0, 1135.0, 1032.0, 1010.0, 982.0, 892.0, 958.0, 1028.0, 974.0, 1009.0], Total predictions to be made : 10000.0\n",
      "\n",
      "Test Accuracy of class 0 : 99.18367346938776% where 972 of 980 were predicted correctly\n",
      "Test Accuracy of class 1 : 99.55947136563877% where 1130 of 1135 were predicted correctly\n",
      "Test Accuracy of class 2 : 98.44961240310077% where 1016 of 1032 were predicted correctly\n",
      "Test Accuracy of class 3 : 97.72277227722772% where 987 of 1010 were predicted correctly\n",
      "Test Accuracy of class 4 : 98.26883910386965% where 965 of 982 were predicted correctly\n",
      "Test Accuracy of class 5 : 97.98206278026906% where 874 of 892 were predicted correctly\n",
      "Test Accuracy of class 6 : 97.80793319415449% where 937 of 958 were predicted correctly\n",
      "Test Accuracy of class 7 : 97.66536964980544% where 1004 of 1028 were predicted correctly\n",
      "Test Accuracy of class 8 : 97.94661190965093% where 954 of 974 were predicted correctly\n",
      "Test Accuracy of class 9 : 97.22497522299307% where 981 of 1009 were predicted correctly\n",
      "\n",
      "Overall Test Accuracy : 98.2% where 9820 of 10000 were predicted correctly\n"
     ]
    },
    {
     "name": "stderr",
     "output_type": "stream",
     "text": [
      "/opt/conda/lib/python3.7/site-packages/ipykernel_launcher.py:52: MatplotlibDeprecationWarning: Passing non-integers as three-element position specification is deprecated since 3.3 and will be removed two minor releases later.\n"
     ]
    },
    {
     "data": {
      "image/png": "[encoded data removed]",
      "text/plain": [
       "<Figure size 1800x288 with 20 Axes>"
      ]
     },
     "metadata": {},
     "output_type": "display_data"
    }
   ],
   "source": [
    "## YOUR CODE HERE ##\n",
    "test(model_1)"
   ]
  },
  {
   "cell_type": "code",
   "execution_count": 23,
   "metadata": {},
   "outputs": [
    {
     "name": "stdout",
     "output_type": "stream",
     "text": [
      "For convNet :\n",
      "Test Loss: 0.035011115513800165\n",
      "Correctly predicted per class : [978.0, 1134.0, 1021.0, 1003.0, 974.0, 884.0, 946.0, 1022.0, 967.0, 1000.0], Total correctly perdicted : 9929.0\n",
      "Total Predictions per class : [980.0, 1135.0, 1032.0, 1010.0, 982.0, 892.0, 958.0, 1028.0, 974.0, 1009.0], Total predictions to be made : 10000.0\n",
      "\n",
      "Test Accuracy of class 0 : 99.79591836734694% where 978 of 980 were predicted correctly\n",
      "Test Accuracy of class 1 : 99.91189427312776% where 1134 of 1135 were predicted correctly\n",
      "Test Accuracy of class 2 : 98.93410852713178% where 1021 of 1032 were predicted correctly\n",
      "Test Accuracy of class 3 : 99.3069306930693% where 1003 of 1010 were predicted correctly\n",
      "Test Accuracy of class 4 : 99.18533604887983% where 974 of 982 were predicted correctly\n",
      "Test Accuracy of class 5 : 99.10313901345292% where 884 of 892 were predicted correctly\n",
      "Test Accuracy of class 6 : 98.74739039665971% where 946 of 958 were predicted correctly\n",
      "Test Accuracy of class 7 : 99.41634241245136% where 1022 of 1028 were predicted correctly\n",
      "Test Accuracy of class 8 : 99.28131416837782% where 967 of 974 were predicted correctly\n",
      "Test Accuracy of class 9 : 99.10802775024777% where 1000 of 1009 were predicted correctly\n",
      "\n",
      "Overall Test Accuracy : 99.29% where 9929 of 10000 were predicted correctly\n"
     ]
    },
    {
     "name": "stderr",
     "output_type": "stream",
     "text": [
      "/opt/conda/lib/python3.7/site-packages/ipykernel_launcher.py:52: MatplotlibDeprecationWarning: Passing non-integers as three-element position specification is deprecated since 3.3 and will be removed two minor releases later.\n"
     ]
    },
    {
     "data": {
      "image/png": "[encoded data removed]",
      "text/plain": [
       "<Figure size 1800x288 with 20 Axes>"
      ]
     },
     "metadata": {},
     "output_type": "display_data"
    }
   ],
   "source": [
    "test(model_2)"
   ]
  },
  {
   "cell_type": "markdown",
   "metadata": {},
   "source": [
    "## Saving your model\n",
    "Using `torch.save`, save your model for future loading."
   ]
  },
  {
   "cell_type": "code",
   "execution_count": 25,
   "metadata": {},
   "outputs": [],
   "source": [
    "## YOUR CODE HERE ##\n",
    "torch.save(model_1,'./MODEL_1.pth')"
   ]
  },
  {
   "cell_type": "code",
   "execution_count": 26,
   "metadata": {},
   "outputs": [],
   "source": [
    "torch.save(model_2,'./MODEL_2.pth')"
   ]
  }
 ],
 "metadata": {
  "kernelspec": {
   "display_name": "Python 3",
   "language": "python",
   "name": "python3"
  },
  "language_info": {
   "codemirror_mode": {
    "name": "ipython",
    "version": 3
   },
   "file_extension": ".py",
   "mimetype": "text/x-python",
   "name": "python",
   "nbconvert_exporter": "python",
   "pygments_lexer": "ipython3",
   "version": "3.7.6"
  }
 },
 "nbformat": 4,
 "nbformat_minor": 4
}
